{
  "nbformat": 4,
  "nbformat_minor": 0,
  "metadata": {
    "colab": {
      "name": "LeNet in Keras.ipynb",
      "version": "0.3.2",
      "provenance": [],
      "collapsed_sections": []
    },
    "kernelspec": {
      "name": "python3",
      "display_name": "Python 3"
    },
    "accelerator": "GPU"
  },
  "cells": [
    {
      "cell_type": "code",
      "metadata": {
        "id": "A7HJvmxOIjf7",
        "colab_type": "code",
        "outputId": "8bfc6869-8f0c-4cc7-c651-e50879434668",
        "colab": {
          "base_uri": "https://localhost:8080/",
          "height": 122
        }
      },
      "source": [
        "from google.colab import drive\n",
        "drive.mount('/content/gdrive')"
      ],
      "execution_count": 0,
      "outputs": [
        {
          "output_type": "stream",
          "text": [
            "Go to this URL in a browser: https://accounts.google.com/o/oauth2/auth?client_id=947318989803-6bn6qk8qdgf4n4g3pfee6491hc0brc4i.apps.googleusercontent.com&redirect_uri=urn%3Aietf%3Awg%3Aoauth%3A2.0%3Aoob&scope=email%20https%3A%2F%2Fwww.googleapis.com%2Fauth%2Fdocs.test%20https%3A%2F%2Fwww.googleapis.com%2Fauth%2Fdrive%20https%3A%2F%2Fwww.googleapis.com%2Fauth%2Fdrive.photos.readonly%20https%3A%2F%2Fwww.googleapis.com%2Fauth%2Fpeopleapi.readonly&response_type=code\n",
            "\n",
            "Enter your authorization code:\n",
            "··········\n",
            "Mounted at /content/gdrive\n"
          ],
          "name": "stdout"
        }
      ]
    },
    {
      "cell_type": "code",
      "metadata": {
        "id": "tas8IGBkJgEy",
        "colab_type": "code",
        "colab": {}
      },
      "source": [
        "\n",
        "from sklearn.preprocessing import LabelBinarizer\n",
        "import gzip\n",
        "import os\n",
        "import time\n",
        "import pickle\n",
        "import numpy as np\n",
        "from sklearn.model_selection import train_test_split\n",
        "from keras.models import Sequential\n",
        "from keras import layers\n",
        "\n",
        "from keras import backend as K\n",
        "import keras"
      ],
      "execution_count": 0,
      "outputs": []
    },
    {
      "cell_type": "code",
      "metadata": {
        "id": "g3Wx6h0VLu_0",
        "colab_type": "code",
        "colab": {}
      },
      "source": [
        "with gzip.open(\"/content/gdrive/My Drive/mnist.pkl.gz\", 'rb') as f:\n",
        "    train_set, valid_set, test_set = pickle.load(f, encoding=\"latin1\")\n",
        "    X, y = train_set\n",
        "    Xtest, ytest = test_set\n",
        "\n",
        "    binarizer = LabelBinarizer()\n",
        "    Y = binarizer.fit_transform(y)"
      ],
      "execution_count": 0,
      "outputs": []
    },
    {
      "cell_type": "code",
      "metadata": {
        "id": "_NOW6h37LDcv",
        "colab_type": "code",
        "outputId": "63ffbfd2-6724-48e6-e39e-954e3d7b5b25",
        "colab": {
          "base_uri": "https://localhost:8080/",
          "height": 34
        }
      },
      "source": [
        "#check the shape of MNIST dataset\n",
        "X.shape"
      ],
      "execution_count": 0,
      "outputs": [
        {
          "output_type": "execute_result",
          "data": {
            "text/plain": [
              "(50000, 784)"
            ]
          },
          "metadata": {
            "tags": []
          },
          "execution_count": 16
        }
      ]
    },
    {
      "cell_type": "code",
      "metadata": {
        "id": "cSS9V6hWLSef",
        "colab_type": "code",
        "colab": {}
      },
      "source": [
        "Xtrain, Xvalid, ytrain, yvalid = train_test_split(X, y, test_size=0.2, random_state=0)"
      ],
      "execution_count": 0,
      "outputs": []
    },
    {
      "cell_type": "code",
      "metadata": {
        "id": "QKcgcV2RM30R",
        "colab_type": "code",
        "colab": {}
      },
      "source": [
        "Xtrain = Xtrain.reshape(Xtrain.shape[0], 28, 28, 1)\n",
        "Xvalid = Xvalid.reshape(Xvalid.shape[0], 28, 28, 1)\n",
        "Xtest = Xtest.reshape(Xtest.shape[0], 28, 28, 1)\n",
        "Xtest.shape\n",
        "Xtrain = np.pad(Xtrain, ((0,0),(2,2),(2,2),(0,0)), 'constant')\n",
        "Xvalid = np.pad(Xvalid, ((0,0),(2,2),(2,2),(0,0)), 'constant')\n",
        "Xtest = np.pad(Xtest, ((0,0),(2,2),(2,2),(0,0)), 'constant')\n",
        "#X_train.shape"
      ],
      "execution_count": 0,
      "outputs": []
    },
    {
      "cell_type": "code",
      "metadata": {
        "id": "DVOhk1Py2p_k",
        "colab_type": "code",
        "colab": {}
      },
      "source": [
        "#convert labels to categorical data \n",
        "n_class = 10\n",
        "ytrain = keras.utils.to_categorical(ytrain, n_class)\n",
        "yvalid = keras.utils.to_categorical(yvalid, n_class)\n",
        "ytest = keras.utils.to_categorical(ytest, n_class)"
      ],
      "execution_count": 0,
      "outputs": []
    },
    {
      "cell_type": "markdown",
      "metadata": {
        "id": "x2fx4aNv-kgn",
        "colab_type": "text"
      },
      "source": [
        "The model is built based on the structure of the original figure."
      ]
    },
    {
      "cell_type": "code",
      "metadata": {
        "id": "7sDUCzhH3pjj",
        "colab_type": "code",
        "colab": {}
      },
      "source": [
        "model = keras.Sequential()\n",
        "\n",
        "model.add(layers.Conv2D(filters=6, kernel_size=(3, 3), activation='relu', input_shape=(32,32,1)))\n",
        "model.add(layers.MaxPooling2D())\n",
        "\n",
        "model.add(layers.Conv2D(filters=16, kernel_size=(3, 3), activation='softmax'))\n",
        "model.add(layers.MaxPooling2D())\n",
        "\n",
        "model.add(layers.Flatten())\n",
        "\n",
        "model.add(layers.Dense(units=120, activation='softmax'))\n",
        "\n",
        "model.add(layers.Dense(units=84, activation='relu'))\n",
        "\n",
        "model.add(layers.Dense(units=10, activation = 'softmax'))"
      ],
      "execution_count": 0,
      "outputs": []
    },
    {
      "cell_type": "code",
      "metadata": {
        "id": "fcMLaJON4lPR",
        "colab_type": "code",
        "colab": {}
      },
      "source": [
        "model.compile(loss=keras.losses.categorical_crossentropy,\n",
        "              optimizer=keras.optimizers.Adam(),\n",
        "              metrics=['accuracy'])"
      ],
      "execution_count": 0,
      "outputs": []
    },
    {
      "cell_type": "code",
      "metadata": {
        "id": "ZsZEKk_g5IEJ",
        "colab_type": "code",
        "outputId": "9e63b346-35f1-47de-c330-36de7de6ba08",
        "colab": {
          "base_uri": "https://localhost:8080/",
          "height": 462
        }
      },
      "source": [
        "begin = time.time()\n",
        "model.fit(Xtrain, ytrain,\n",
        "          batch_size=100,\n",
        "          epochs=10,\n",
        "          verbose=1,\n",
        "          validation_data=(Xvalid, yvalid))\n",
        "end = time.time()\n",
        "print(end - begin)\n",
        "score = model.evaluate(Xtest, ytest, verbose=0)"
      ],
      "execution_count": 0,
      "outputs": [
        {
          "output_type": "stream",
          "text": [
            "WARNING:tensorflow:From /usr/local/lib/python3.6/dist-packages/tensorflow/python/ops/math_grad.py:102: div (from tensorflow.python.ops.math_ops) is deprecated and will be removed in a future version.\n",
            "Instructions for updating:\n",
            "Deprecated in favor of operator or tf.math.divide.\n",
            "Train on 40000 samples, validate on 10000 samples\n",
            "Epoch 1/10\n",
            "40000/40000 [==============================] - 4s 111us/step - loss: 1.4207 - acc: 0.4952 - val_loss: 0.6187 - val_acc: 0.8201\n",
            "Epoch 2/10\n",
            "40000/40000 [==============================] - 4s 102us/step - loss: 0.4027 - acc: 0.8887 - val_loss: 0.2977 - val_acc: 0.9227\n",
            "Epoch 3/10\n",
            "40000/40000 [==============================] - 4s 100us/step - loss: 0.2417 - acc: 0.9347 - val_loss: 0.2201 - val_acc: 0.9383\n",
            "Epoch 4/10\n",
            "40000/40000 [==============================] - 4s 100us/step - loss: 0.1835 - acc: 0.9482 - val_loss: 0.1777 - val_acc: 0.9507\n",
            "Epoch 5/10\n",
            "40000/40000 [==============================] - 4s 100us/step - loss: 0.1544 - acc: 0.9558 - val_loss: 0.1521 - val_acc: 0.9565\n",
            "Epoch 6/10\n",
            "40000/40000 [==============================] - 4s 100us/step - loss: 0.1208 - acc: 0.9651 - val_loss: 0.1226 - val_acc: 0.9624\n",
            "Epoch 7/10\n",
            "40000/40000 [==============================] - 4s 100us/step - loss: 0.1011 - acc: 0.9706 - val_loss: 0.1144 - val_acc: 0.9658\n",
            "Epoch 8/10\n",
            "40000/40000 [==============================] - 4s 100us/step - loss: 0.0909 - acc: 0.9730 - val_loss: 0.1057 - val_acc: 0.9674\n",
            "Epoch 9/10\n",
            "40000/40000 [==============================] - 4s 100us/step - loss: 0.0820 - acc: 0.9756 - val_loss: 0.0923 - val_acc: 0.9715\n",
            "Epoch 10/10\n",
            "40000/40000 [==============================] - 4s 99us/step - loss: 0.0732 - acc: 0.9772 - val_loss: 0.0912 - val_acc: 0.9728\n",
            "41.10350298881531\n"
          ],
          "name": "stdout"
        }
      ]
    }
  ]
}